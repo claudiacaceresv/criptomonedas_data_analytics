{
 "cells": [
  {
   "cell_type": "code",
   "execution_count": 944,
   "metadata": {},
   "outputs": [],
   "source": [
    "from pycoingecko import CoinGeckoAPI\n",
    "from datetime import datetime, timedelta\n",
    "import pandas as pd"
   ]
  },
  {
   "cell_type": "code",
   "execution_count": 945,
   "metadata": {},
   "outputs": [],
   "source": [
    "# CoinGecko\n",
    "cg = CoinGeckoAPI()"
   ]
  },
  {
   "cell_type": "markdown",
   "metadata": {},
   "source": [
    "Se crea una instancia de la API de CoinGecko llamada cg para poder acceder a los datos y funciones proporcionados por `CoinGecko`."
   ]
  },
  {
   "cell_type": "markdown",
   "metadata": {},
   "source": [
    "-----------"
   ]
  },
  {
   "cell_type": "code",
   "execution_count": 946,
   "metadata": {},
   "outputs": [],
   "source": [
    "# Mes y el año para filtrar\n",
    "mes = 12\n",
    "anio = 2021"
   ]
  },
  {
   "cell_type": "markdown",
   "metadata": {},
   "source": [
    "Se establece el mes y el año para filtrar los datos de análisis."
   ]
  },
  {
   "cell_type": "markdown",
   "metadata": {},
   "source": [
    "------------"
   ]
  },
  {
   "cell_type": "code",
   "execution_count": 947,
   "metadata": {},
   "outputs": [
    {
     "data": {
      "text/plain": [
       "['bitcoin',\n",
       " 'ethereum',\n",
       " 'tether',\n",
       " 'binancecoin',\n",
       " 'ripple',\n",
       " 'usd-coin',\n",
       " 'staked-ether',\n",
       " 'cardano',\n",
       " 'dogecoin',\n",
       " 'solana',\n",
       " 'tron',\n",
       " 'polkadot',\n",
       " 'matic-network',\n",
       " 'litecoin',\n",
       " 'shiba-inu']"
      ]
     },
     "execution_count": 947,
     "metadata": {},
     "output_type": "execute_result"
    }
   ],
   "source": [
    "df_top_15_capitalizacion_actual = pd.read_csv(\"../data/top_15_capitalizacion_actual.csv\")\n",
    "lista_monedas = df_top_15_capitalizacion_actual['id'].tolist()\n",
    "lista_monedas"
   ]
  },
  {
   "cell_type": "markdown",
   "metadata": {},
   "source": [
    "Se lee un archivo CSV llamado `\"top_15_capitalizacion_actual.csv\"` que contiene los detalles de las 15 principales criptomonedas por capitalización de mercado actual. Luego, se extrae la columna `'id'` y se crea una lista llamada lista_monedas con los ids de las criptomonedas."
   ]
  },
  {
   "cell_type": "markdown",
   "metadata": {},
   "source": [
    "---------------"
   ]
  },
  {
   "cell_type": "code",
   "execution_count": 948,
   "metadata": {},
   "outputs": [],
   "source": [
    "data = []\n",
    "\n",
    "# Completa la lista\n",
    "for moneda in lista_monedas:\n",
    "    detalles = cg.get_coin_by_id(moneda)\n",
    "    last_day_of_month = (datetime(anio, mes, 1) + timedelta(days=32)).replace(day=1) - timedelta(days=1)\n",
    "    \n",
    "    precios_historicos = cg.get_coin_market_chart_range_by_id(\n",
    "        id=moneda,\n",
    "        vs_currency='usd',\n",
    "        from_timestamp=int(datetime(anio, mes, 1).timestamp()),\n",
    "        to_timestamp=int(last_day_of_month.timestamp()))\n",
    "\n",
    "    for i, punto in enumerate(precios_historicos['prices']):\n",
    "        data.append({\n",
    "            'fecha': datetime.utcfromtimestamp(punto[0] // 1000).strftime('%Y-%m'),\n",
    "            'id': detalles['id'],\n",
    "            'precio': punto[1],\n",
    "            'ranking_capitalizacion': detalles['market_cap_rank'],\n",
    "            'capitalizacion': detalles['market_data']['market_cap']['usd'],\n",
    "            'volumen': precios_historicos['total_volumes'][i][1]\n",
    "        })\n"
   ]
  },
  {
   "cell_type": "markdown",
   "metadata": {},
   "source": [
    "1. Se inicializa una lista vacía llamada `data` para almacenar los datos recopilados.\n",
    "2. Se itera sobre cada moneda en la lista `lista_monedas`.\n",
    "3. Para cada moneda, se obtienen los detalles completos utilizando la función `cg.get_coin_by_id(moneda)` de la API de CoinGecko.\n",
    "4. Se calcula el último día del mes utilizando la variable `last_day_of_month`, asegurándose de no exceder el último día válido del mes.\n",
    "5. Se obtienen los precios históricos de la moneda en el rango de tiempo desde el primer día del mes hasta el último día del mes utilizando la función `cg.get_coin_market_chart_range_by_id()`.\n",
    "6. Se itera sobre cada punto de precios históricos y se agregan los datos relevantes a la lista `data`, incluyendo la fecha, el ID de la criptomoneda, el precio, el ranking de capitalización, la capitalización de mercado y el volumen."
   ]
  },
  {
   "cell_type": "markdown",
   "metadata": {},
   "source": [
    "--------------"
   ]
  },
  {
   "cell_type": "code",
   "execution_count": 949,
   "metadata": {},
   "outputs": [],
   "source": [
    "df = pd.DataFrame(data)"
   ]
  },
  {
   "cell_type": "markdown",
   "metadata": {},
   "source": [
    "Se crea un DataFrame df a partir de la lista `data`, que contiene los datos recopilados de las criptomonedas."
   ]
  },
  {
   "cell_type": "code",
   "execution_count": 950,
   "metadata": {},
   "outputs": [
    {
     "data": {
      "text/html": [
       "<div>\n",
       "<style scoped>\n",
       "    .dataframe tbody tr th:only-of-type {\n",
       "        vertical-align: middle;\n",
       "    }\n",
       "\n",
       "    .dataframe tbody tr th {\n",
       "        vertical-align: top;\n",
       "    }\n",
       "\n",
       "    .dataframe thead th {\n",
       "        text-align: right;\n",
       "    }\n",
       "</style>\n",
       "<table border=\"1\" class=\"dataframe\">\n",
       "  <thead>\n",
       "    <tr style=\"text-align: right;\">\n",
       "      <th></th>\n",
       "      <th>fecha</th>\n",
       "      <th>id</th>\n",
       "      <th>precio</th>\n",
       "      <th>ranking_capitalizacion</th>\n",
       "      <th>capitalizacion</th>\n",
       "      <th>volumen</th>\n",
       "    </tr>\n",
       "  </thead>\n",
       "  <tbody>\n",
       "    <tr>\n",
       "      <th>0</th>\n",
       "      <td>2021-12</td>\n",
       "      <td>bitcoin</td>\n",
       "      <td>57483.820923</td>\n",
       "      <td>1</td>\n",
       "      <td>556198646739</td>\n",
       "      <td>3.576021e+10</td>\n",
       "    </tr>\n",
       "    <tr>\n",
       "      <th>1</th>\n",
       "      <td>2021-12</td>\n",
       "      <td>bitcoin</td>\n",
       "      <td>57365.336006</td>\n",
       "      <td>1</td>\n",
       "      <td>556198646739</td>\n",
       "      <td>3.568764e+10</td>\n",
       "    </tr>\n",
       "    <tr>\n",
       "      <th>2</th>\n",
       "      <td>2021-12</td>\n",
       "      <td>bitcoin</td>\n",
       "      <td>57153.808048</td>\n",
       "      <td>1</td>\n",
       "      <td>556198646739</td>\n",
       "      <td>3.570528e+10</td>\n",
       "    </tr>\n",
       "    <tr>\n",
       "      <th>3</th>\n",
       "      <td>2021-12</td>\n",
       "      <td>bitcoin</td>\n",
       "      <td>56825.208053</td>\n",
       "      <td>1</td>\n",
       "      <td>556198646739</td>\n",
       "      <td>3.481351e+10</td>\n",
       "    </tr>\n",
       "    <tr>\n",
       "      <th>4</th>\n",
       "      <td>2021-12</td>\n",
       "      <td>bitcoin</td>\n",
       "      <td>57034.263390</td>\n",
       "      <td>1</td>\n",
       "      <td>556198646739</td>\n",
       "      <td>3.468153e+10</td>\n",
       "    </tr>\n",
       "    <tr>\n",
       "      <th>...</th>\n",
       "      <td>...</td>\n",
       "      <td>...</td>\n",
       "      <td>...</td>\n",
       "      <td>...</td>\n",
       "      <td>...</td>\n",
       "      <td>...</td>\n",
       "    </tr>\n",
       "    <tr>\n",
       "      <th>10811</th>\n",
       "      <td>2021-12</td>\n",
       "      <td>shiba-inu</td>\n",
       "      <td>0.000034</td>\n",
       "      <td>15</td>\n",
       "      <td>5412777834</td>\n",
       "      <td>9.200908e+08</td>\n",
       "    </tr>\n",
       "    <tr>\n",
       "      <th>10812</th>\n",
       "      <td>2021-12</td>\n",
       "      <td>shiba-inu</td>\n",
       "      <td>0.000034</td>\n",
       "      <td>15</td>\n",
       "      <td>5412777834</td>\n",
       "      <td>9.191253e+08</td>\n",
       "    </tr>\n",
       "    <tr>\n",
       "      <th>10813</th>\n",
       "      <td>2021-12</td>\n",
       "      <td>shiba-inu</td>\n",
       "      <td>0.000034</td>\n",
       "      <td>15</td>\n",
       "      <td>5412777834</td>\n",
       "      <td>8.438848e+08</td>\n",
       "    </tr>\n",
       "    <tr>\n",
       "      <th>10814</th>\n",
       "      <td>2021-12</td>\n",
       "      <td>shiba-inu</td>\n",
       "      <td>0.000034</td>\n",
       "      <td>15</td>\n",
       "      <td>5412777834</td>\n",
       "      <td>8.150344e+08</td>\n",
       "    </tr>\n",
       "    <tr>\n",
       "      <th>10815</th>\n",
       "      <td>2021-12</td>\n",
       "      <td>shiba-inu</td>\n",
       "      <td>0.000034</td>\n",
       "      <td>15</td>\n",
       "      <td>5412777834</td>\n",
       "      <td>8.361696e+08</td>\n",
       "    </tr>\n",
       "  </tbody>\n",
       "</table>\n",
       "<p>10816 rows × 6 columns</p>\n",
       "</div>"
      ],
      "text/plain": [
       "         fecha         id        precio  ranking_capitalizacion  \\\n",
       "0      2021-12    bitcoin  57483.820923                       1   \n",
       "1      2021-12    bitcoin  57365.336006                       1   \n",
       "2      2021-12    bitcoin  57153.808048                       1   \n",
       "3      2021-12    bitcoin  56825.208053                       1   \n",
       "4      2021-12    bitcoin  57034.263390                       1   \n",
       "...        ...        ...           ...                     ...   \n",
       "10811  2021-12  shiba-inu      0.000034                      15   \n",
       "10812  2021-12  shiba-inu      0.000034                      15   \n",
       "10813  2021-12  shiba-inu      0.000034                      15   \n",
       "10814  2021-12  shiba-inu      0.000034                      15   \n",
       "10815  2021-12  shiba-inu      0.000034                      15   \n",
       "\n",
       "       capitalizacion       volumen  \n",
       "0        556198646739  3.576021e+10  \n",
       "1        556198646739  3.568764e+10  \n",
       "2        556198646739  3.570528e+10  \n",
       "3        556198646739  3.481351e+10  \n",
       "4        556198646739  3.468153e+10  \n",
       "...               ...           ...  \n",
       "10811      5412777834  9.200908e+08  \n",
       "10812      5412777834  9.191253e+08  \n",
       "10813      5412777834  8.438848e+08  \n",
       "10814      5412777834  8.150344e+08  \n",
       "10815      5412777834  8.361696e+08  \n",
       "\n",
       "[10816 rows x 6 columns]"
      ]
     },
     "execution_count": 950,
     "metadata": {},
     "output_type": "execute_result"
    }
   ],
   "source": [
    "df"
   ]
  },
  {
   "cell_type": "markdown",
   "metadata": {},
   "source": [
    "----------"
   ]
  },
  {
   "cell_type": "code",
   "execution_count": 951,
   "metadata": {},
   "outputs": [
    {
     "data": {
      "text/plain": [
       "array(['bitcoin', 'ethereum', 'tether', 'binancecoin', 'ripple',\n",
       "       'usd-coin', 'staked-ether', 'cardano', 'dogecoin', 'solana',\n",
       "       'tron', 'polkadot', 'matic-network', 'litecoin', 'shiba-inu'],\n",
       "      dtype=object)"
      ]
     },
     "execution_count": 951,
     "metadata": {},
     "output_type": "execute_result"
    }
   ],
   "source": [
    "df['id'].unique()"
   ]
  },
  {
   "cell_type": "markdown",
   "metadata": {},
   "source": [
    "Se obtienen los ids únicos de las criptomonedas en el DataFrame `\"df\"`."
   ]
  },
  {
   "cell_type": "markdown",
   "metadata": {},
   "source": [
    "----------"
   ]
  },
  {
   "cell_type": "code",
   "execution_count": 952,
   "metadata": {},
   "outputs": [
    {
     "data": {
      "text/plain": [
       "(10816, 6)"
      ]
     },
     "execution_count": 952,
     "metadata": {},
     "output_type": "execute_result"
    }
   ],
   "source": [
    "df.shape"
   ]
  },
  {
   "cell_type": "markdown",
   "metadata": {},
   "source": [
    "Se muestra la forma (número de filas y columnas) del DataFrame `\"df\"`."
   ]
  },
  {
   "cell_type": "markdown",
   "metadata": {},
   "source": [
    "----------"
   ]
  },
  {
   "cell_type": "code",
   "execution_count": 953,
   "metadata": {},
   "outputs": [],
   "source": [
    "df.dropna(inplace=True)"
   ]
  },
  {
   "cell_type": "markdown",
   "metadata": {},
   "source": [
    "Se eliminan las filas con valores faltantes (NaN) en el DataFrame `\"df\"`."
   ]
  },
  {
   "cell_type": "markdown",
   "metadata": {},
   "source": [
    "-------------"
   ]
  },
  {
   "cell_type": "code",
   "execution_count": 954,
   "metadata": {},
   "outputs": [
    {
     "name": "stdout",
     "output_type": "stream",
     "text": [
      "<class 'pandas.core.frame.DataFrame'>\n",
      "RangeIndex: 10816 entries, 0 to 10815\n",
      "Data columns (total 6 columns):\n",
      " #   Column                  Non-Null Count  Dtype  \n",
      "---  ------                  --------------  -----  \n",
      " 0   fecha                   10816 non-null  object \n",
      " 1   id                      10816 non-null  object \n",
      " 2   precio                  10816 non-null  float64\n",
      " 3   ranking_capitalizacion  10816 non-null  int64  \n",
      " 4   capitalizacion          10816 non-null  int64  \n",
      " 5   volumen                 10816 non-null  float64\n",
      "dtypes: float64(2), int64(2), object(2)\n",
      "memory usage: 507.1+ KB\n"
     ]
    }
   ],
   "source": [
    "df.info()"
   ]
  },
  {
   "cell_type": "markdown",
   "metadata": {},
   "source": [
    "Se muestra información sobre el DataFrame df, incluyendo el tipo de datos de cada columna y la cantidad de valores no nulos."
   ]
  },
  {
   "cell_type": "markdown",
   "metadata": {},
   "source": [
    "---------------"
   ]
  },
  {
   "cell_type": "code",
   "execution_count": 955,
   "metadata": {},
   "outputs": [
    {
     "data": {
      "text/html": [
       "<div>\n",
       "<style scoped>\n",
       "    .dataframe tbody tr th:only-of-type {\n",
       "        vertical-align: middle;\n",
       "    }\n",
       "\n",
       "    .dataframe tbody tr th {\n",
       "        vertical-align: top;\n",
       "    }\n",
       "\n",
       "    .dataframe thead th {\n",
       "        text-align: right;\n",
       "    }\n",
       "</style>\n",
       "<table border=\"1\" class=\"dataframe\">\n",
       "  <thead>\n",
       "    <tr style=\"text-align: right;\">\n",
       "      <th></th>\n",
       "      <th>id</th>\n",
       "      <th>precio</th>\n",
       "      <th>fecha</th>\n",
       "      <th>ranking_capitalizacion</th>\n",
       "      <th>capitalizacion</th>\n",
       "      <th>volumen</th>\n",
       "    </tr>\n",
       "  </thead>\n",
       "  <tbody>\n",
       "    <tr>\n",
       "      <th>0</th>\n",
       "      <td>binancecoin</td>\n",
       "      <td>647.968898</td>\n",
       "      <td>2021-12</td>\n",
       "      <td>4</td>\n",
       "      <td>35526343000</td>\n",
       "      <td>4.616511e+09</td>\n",
       "    </tr>\n",
       "    <tr>\n",
       "      <th>1</th>\n",
       "      <td>bitcoin</td>\n",
       "      <td>58612.920116</td>\n",
       "      <td>2021-12</td>\n",
       "      <td>1</td>\n",
       "      <td>556198646739</td>\n",
       "      <td>6.317296e+10</td>\n",
       "    </tr>\n",
       "    <tr>\n",
       "      <th>2</th>\n",
       "      <td>cardano</td>\n",
       "      <td>1.741638</td>\n",
       "      <td>2021-12</td>\n",
       "      <td>8</td>\n",
       "      <td>9692632392</td>\n",
       "      <td>3.904049e+09</td>\n",
       "    </tr>\n",
       "    <tr>\n",
       "      <th>3</th>\n",
       "      <td>dogecoin</td>\n",
       "      <td>0.219739</td>\n",
       "      <td>2021-12</td>\n",
       "      <td>9</td>\n",
       "      <td>9551718598</td>\n",
       "      <td>6.266509e+09</td>\n",
       "    </tr>\n",
       "    <tr>\n",
       "      <th>4</th>\n",
       "      <td>ethereum</td>\n",
       "      <td>4770.314003</td>\n",
       "      <td>2021-12</td>\n",
       "      <td>2</td>\n",
       "      <td>215867156856</td>\n",
       "      <td>4.750751e+10</td>\n",
       "    </tr>\n",
       "    <tr>\n",
       "      <th>5</th>\n",
       "      <td>litecoin</td>\n",
       "      <td>216.237271</td>\n",
       "      <td>2021-12</td>\n",
       "      <td>14</td>\n",
       "      <td>5547635550</td>\n",
       "      <td>5.400568e+09</td>\n",
       "    </tr>\n",
       "    <tr>\n",
       "      <th>6</th>\n",
       "      <td>matic-network</td>\n",
       "      <td>2.904751</td>\n",
       "      <td>2021-12</td>\n",
       "      <td>13</td>\n",
       "      <td>5778114074</td>\n",
       "      <td>4.947343e+09</td>\n",
       "    </tr>\n",
       "    <tr>\n",
       "      <th>7</th>\n",
       "      <td>polkadot</td>\n",
       "      <td>38.205825</td>\n",
       "      <td>2021-12</td>\n",
       "      <td>12</td>\n",
       "      <td>6006607279</td>\n",
       "      <td>2.691884e+09</td>\n",
       "    </tr>\n",
       "    <tr>\n",
       "      <th>8</th>\n",
       "      <td>ripple</td>\n",
       "      <td>1.015637</td>\n",
       "      <td>2021-12</td>\n",
       "      <td>5</td>\n",
       "      <td>31134566160</td>\n",
       "      <td>6.329989e+09</td>\n",
       "    </tr>\n",
       "    <tr>\n",
       "      <th>9</th>\n",
       "      <td>shiba-inu</td>\n",
       "      <td>0.000048</td>\n",
       "      <td>2021-12</td>\n",
       "      <td>15</td>\n",
       "      <td>5412777834</td>\n",
       "      <td>9.082599e+09</td>\n",
       "    </tr>\n",
       "    <tr>\n",
       "      <th>10</th>\n",
       "      <td>solana</td>\n",
       "      <td>241.691522</td>\n",
       "      <td>2021-12</td>\n",
       "      <td>10</td>\n",
       "      <td>9467020385</td>\n",
       "      <td>6.509911e+09</td>\n",
       "    </tr>\n",
       "    <tr>\n",
       "      <th>11</th>\n",
       "      <td>staked-ether</td>\n",
       "      <td>4705.735380</td>\n",
       "      <td>2021-12</td>\n",
       "      <td>7</td>\n",
       "      <td>14630479508</td>\n",
       "      <td>1.021761e+08</td>\n",
       "    </tr>\n",
       "    <tr>\n",
       "      <th>12</th>\n",
       "      <td>tether</td>\n",
       "      <td>1.014148</td>\n",
       "      <td>2021-12</td>\n",
       "      <td>3</td>\n",
       "      <td>82888039545</td>\n",
       "      <td>1.265166e+11</td>\n",
       "    </tr>\n",
       "    <tr>\n",
       "      <th>13</th>\n",
       "      <td>tron</td>\n",
       "      <td>0.101320</td>\n",
       "      <td>2021-12</td>\n",
       "      <td>11</td>\n",
       "      <td>6680489274</td>\n",
       "      <td>2.791756e+09</td>\n",
       "    </tr>\n",
       "    <tr>\n",
       "      <th>14</th>\n",
       "      <td>usd-coin</td>\n",
       "      <td>1.012936</td>\n",
       "      <td>2021-12</td>\n",
       "      <td>6</td>\n",
       "      <td>26055037253</td>\n",
       "      <td>8.965110e+09</td>\n",
       "    </tr>\n",
       "  </tbody>\n",
       "</table>\n",
       "</div>"
      ],
      "text/plain": [
       "               id        precio    fecha  ranking_capitalizacion  \\\n",
       "0     binancecoin    647.968898  2021-12                       4   \n",
       "1         bitcoin  58612.920116  2021-12                       1   \n",
       "2         cardano      1.741638  2021-12                       8   \n",
       "3        dogecoin      0.219739  2021-12                       9   \n",
       "4        ethereum   4770.314003  2021-12                       2   \n",
       "5        litecoin    216.237271  2021-12                      14   \n",
       "6   matic-network      2.904751  2021-12                      13   \n",
       "7        polkadot     38.205825  2021-12                      12   \n",
       "8          ripple      1.015637  2021-12                       5   \n",
       "9       shiba-inu      0.000048  2021-12                      15   \n",
       "10         solana    241.691522  2021-12                      10   \n",
       "11   staked-ether   4705.735380  2021-12                       7   \n",
       "12         tether      1.014148  2021-12                       3   \n",
       "13           tron      0.101320  2021-12                      11   \n",
       "14       usd-coin      1.012936  2021-12                       6   \n",
       "\n",
       "    capitalizacion       volumen  \n",
       "0      35526343000  4.616511e+09  \n",
       "1     556198646739  6.317296e+10  \n",
       "2       9692632392  3.904049e+09  \n",
       "3       9551718598  6.266509e+09  \n",
       "4     215867156856  4.750751e+10  \n",
       "5       5547635550  5.400568e+09  \n",
       "6       5778114074  4.947343e+09  \n",
       "7       6006607279  2.691884e+09  \n",
       "8      31134566160  6.329989e+09  \n",
       "9       5412777834  9.082599e+09  \n",
       "10      9467020385  6.509911e+09  \n",
       "11     14630479508  1.021761e+08  \n",
       "12     82888039545  1.265166e+11  \n",
       "13      6680489274  2.791756e+09  \n",
       "14     26055037253  8.965110e+09  "
      ]
     },
     "execution_count": 955,
     "metadata": {},
     "output_type": "execute_result"
    }
   ],
   "source": [
    "df = df.groupby('id').agg({'precio': 'max', 'fecha': 'first', 'ranking_capitalizacion': 'min', 'capitalizacion': 'max', 'volumen': 'max'}).reset_index()\n",
    "df"
   ]
  },
  {
   "cell_type": "markdown",
   "metadata": {},
   "source": [
    "Se realiza una operación de agrupación en el DataFrame `\"df\"`, agrupando por el id de la criptomoneda. Se aplica una serie de funciones de agregación a las columnas, como el `precio máximo`, la `fecha`, el `ranking mínimo de capitalización`, la `capitalización máxima` y el `volumen máximo`. El resultado se almacena en un nuevo DataFrame llamado `\"df\"`."
   ]
  },
  {
   "cell_type": "markdown",
   "metadata": {},
   "source": [
    "------------"
   ]
  },
  {
   "cell_type": "code",
   "execution_count": 956,
   "metadata": {},
   "outputs": [],
   "source": [
    "df.to_csv(f\"../data/{anio}_{mes}.csv\")"
   ]
  },
  {
   "cell_type": "markdown",
   "metadata": {},
   "source": [
    "Se guarda el DataFrame df en un archivo csv, utilizando el año y el mes proporcionados en las variables anio y mes para nombrar el archivo."
   ]
  }
 ],
 "metadata": {
  "kernelspec": {
   "display_name": "Python 3",
   "language": "python",
   "name": "python3"
  },
  "language_info": {
   "codemirror_mode": {
    "name": "ipython",
    "version": 3
   },
   "file_extension": ".py",
   "mimetype": "text/x-python",
   "name": "python",
   "nbconvert_exporter": "python",
   "pygments_lexer": "ipython3",
   "version": "3.10.9"
  },
  "orig_nbformat": 4
 },
 "nbformat": 4,
 "nbformat_minor": 2
}
